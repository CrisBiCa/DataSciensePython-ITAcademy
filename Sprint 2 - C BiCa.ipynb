{
 "cells": [
  {
   "cell_type": "markdown",
   "id": "9c37a3b1",
   "metadata": {},
   "source": [
    "# SPRINT 2\n",
    "\n",
    "**Learning how to use _Jupyter_**\n",
    "\n",
    "aaaand <span style=\"text-decoration: underline\">Markdown</span>\n",
    "\n",
    "Exercices to do:\n",
    "   \n",
    "## **Nivell 1**\n",
    "    - Exercici 1\n",
    "    Instal·la el programa Anaconda amb Python 3, i Jupyter Notebook.\n",
    "\n",
    "    - Exercici 2\n",
    "    Utilitzant Jupyter Notebook executa alguns càlculs senzills, a la vegada que et familiaritzes amb el llenguatge Markdown.\n",
    "\n",
    "    - Exercici 3\n",
    "    Prova de crear títols, llistes, canviar l’estil de la lletra o afegir imatges dins del Notebook.\n",
    "\n",
    "## **Nivell 2**\n",
    "    - Exercici 1\n",
    "    Exporta el Notebook com a pdf i com a html.\n",
    "\n",
    "## **Nivell 3**\n",
    "    - Exercici 1\n",
    "    Instal·la Nbextensions al Notebook de Jupyter.\n",
    "    \n",
    "                ------------------------------------------------------------------\n",
    "\n",
    "## **1. Level 1**\n"
   ]
  },
  {
   "cell_type": "markdown",
   "id": "446b3c7b-0ecd-4b87-bade-5445c71934f0",
   "metadata": {},
   "source": [
    "- **Exercice 1: Install Anaconda, Python and Jupyter Notebook**  \n",
    "    Obvously, I installed Anaconda, Python, the lates version (3.8.8), and now I'm using the Jupyter Notebook :) if not I won't be able to use Jupyter. I'm using the Jupyter lab since I find it easier cause you can see the file tree"
   ]
  },
  {
   "cell_type": "markdown",
   "id": "52e4644b-e0f6-49f3-a700-8a25a80a0e2f",
   "metadata": {},
   "source": [
    " - **Exercice 2:**  \n",
    " Execute Jupyter notebook and do some easy python calculations, at the same time use some Markdown langutge to get use to it!\n",
    "\n",
    "_**<span style=\"text-decoration: underline\">Markdown: </span>**_\n",
    "- End a line with two or more spaces to create a line break.\n",
    "\n",
    "- **bold**  \n",
    "add two ** or two __ (underscores) at the beggining and end of the text you want to bold.  \n",
    "\n",
    "- *italics*  \n",
    "add one * or one _ (underscores) at the beggining and end of the text you want to italics.  \n",
    "\n",
    "- _**Bold and italics**_  \n",
    "add one _ (underscores) and two *  at the beggining and end of the text you want to bold & italics.  \n",
    "ooor two _ and one *.  \n",
    "\n",
    "- to <span style=\"text-decoration: underline\">underline:</span>  \n",
    "since markdown is a markup language and In fact you can use HTML/CSS inside it, the easiest way I've found so far is:  \n",
    "text here <span style=\"text-decoration: underline\">underlined text</span> other text. \n",
    "\n",
    "\n",
    "- Backslash escape  \n",
    "Using a backslash \\\\ you can use litera \\* asterisc, \\_ underscore and several others\n",
    "\n",
    "\n",
    "_**<span style=\"text-decoration: underline\">Python:</span>**_   \n",
    "\n",
    "\n",
    "\n"
   ]
  },
  {
   "cell_type": "code",
   "execution_count": 2,
   "id": "688203c9",
   "metadata": {
    "tags": []
   },
   "outputs": [
    {
     "name": "stdout",
     "output_type": "stream",
     "text": [
      "Hello, world!\n"
     ]
    }
   ],
   "source": [
    "print(\"Hello, world!\")"
   ]
  },
  {
   "cell_type": "code",
   "execution_count": 3,
   "id": "a862c2e0-94c3-45c2-94cf-ac25f2c94dc6",
   "metadata": {},
   "outputs": [
    {
     "data": {
      "text/plain": [
       "4"
      ]
     },
     "execution_count": 3,
     "metadata": {},
     "output_type": "execute_result"
    }
   ],
   "source": [
    "2+2"
   ]
  },
  {
   "cell_type": "markdown",
   "id": "28a81668-2fec-46e6-8537-43c0f69fad5e",
   "metadata": {},
   "source": [
    " - **Exercice 3:**  \n",
    "Try to add title, lists and different letter styles or add imatges in the note book"
   ]
  },
  {
   "cell_type": "markdown",
   "id": "670ebfe2-715c-4680-82a7-5ffb1b0d8723",
   "metadata": {},
   "source": [
    "To insert an image:  \n",
    "    - cell should be markdown  \n",
    "    - inserta el codigo entre <> \\<img src=\"IMG_2745.jpg\"> for local images (in the same folder as the jupyter file  \n",
    "    - or this for web images \\<img src=http://animals.sandiegozoo.org/sites/default/files/2016-09/animals_hero_armadillo_0.jpg>"
   ]
  },
  {
   "cell_type": "markdown",
   "id": "e598c2fe-f44e-4ccf-884b-19c296df7c5d",
   "metadata": {},
   "source": [
    "**iuuujjjuuuuu!! Im using Jupyter and markdown!!**  \n",
    "\n",
    "<img src=\"IMG_2745.jpg\">"
   ]
  },
  {
   "cell_type": "markdown",
   "id": "85783e1d-9e34-4bc8-ab4f-648baf916267",
   "metadata": {},
   "source": [
    "<img src=http://animals.sandiegozoo.org/sites/default/files/2016-09/animals_hero_armadillo_0.jpg>"
   ]
  },
  {
   "cell_type": "markdown",
   "id": "b60a4a8c-450c-488f-ab4e-a3a37598137a",
   "metadata": {},
   "source": [
    "## **2. Level 2**  \n",
    "\n",
    "Well, I finally manage to export in pdf and html after a lot of installing random packages from Random Packages Repository. I will add them in my new GitHub :smile:  "
   ]
  },
  {
   "cell_type": "code",
   "execution_count": 1,
   "id": "1c87400a-f83a-42a0-bffd-c0714d80f661",
   "metadata": {},
   "outputs": [],
   "source": [
    "import emoji"
   ]
  },
  {
   "cell_type": "code",
   "execution_count": 10,
   "id": "a5fa61a1-a0b7-436b-a645-bbe2b627d93e",
   "metadata": {},
   "outputs": [
    {
     "name": "stdout",
     "output_type": "stream",
     "text": [
      "I'm importing emojis!!!!! 👍\n"
     ]
    }
   ],
   "source": [
    "print(emoji.emojize('I\\'m importing emojis!!!!! :thumbs_up:'))"
   ]
  },
  {
   "cell_type": "code",
   "execution_count": 11,
   "id": "677e2e99-a54a-4190-a7cd-6594882c97b0",
   "metadata": {},
   "outputs": [
    {
     "name": "stdout",
     "output_type": "stream",
     "text": [
      "but maybe I want them in Markdown 🤔 \n"
     ]
    }
   ],
   "source": [
    "print(emoji.emojize('but maybe I want them in Markdown 🤔 '))"
   ]
  },
  {
   "cell_type": "markdown",
   "id": "3492ac12-840f-4197-93c0-4b31b4741262",
   "metadata": {},
   "source": [
    "and here there is an interesting link on why to use emojis in coding:  \n",
    "https://towardsdatascience.com/why-im-coding-with-emojis-in-jupyter-notebooks-23f08585ed3d"
   ]
  },
  {
   "cell_type": "markdown",
   "id": "da37a599-fe95-4206-9644-4dffe03bc402",
   "metadata": {},
   "source": [
    "🥳\n",
    "\n",
    "soooo go to the link and copy paste the emoji you want, thaaat easy! 🤟 🙌   \n",
    "https://getemoji.com/"
   ]
  },
  {
   "cell_type": "markdown",
   "id": "e25c9783-f7fc-46e8-9f0c-ceb0cfd675d5",
   "metadata": {},
   "source": [
    "## **3. Level 3** \n",
    "\n",
    "Install nbextensions in Jupyter notebook\n",
    "\n",
    "but first...I want to know what are they for, no?\n",
    "\n",
    "this link is very interesting with tips and trick for jupyter Notebook. It gives shorcuts, magic commands and some nbextensions:  \n",
    "https://towardsdatascience.com/optimizing-jupyter-notebook-tips-tricks-and-nbextensions-26d75d502663\n",
    "\n",
    "and:  \n",
    "https://medium.com/@maxtingle/10-jupyter-notebook-extensions-making-my-lyfe-easier-f40139a334ce"
   ]
  },
  {
   "cell_type": "markdown",
   "id": "5294fe7c",
   "metadata": {},
   "source": [
    "**1st of all** it is **Not** possible to use nbextensions in Jupyter Lab, to use them I need to be in Jupyter Notebook!\n",
    "\n",
    "_**Some useful extensions:**_  \n",
    " \n",
    "1. **Hinterland**  \n",
    "    It enables code autocompletion menu for every keypress in a code cell, instead of only enabling it with tab  \n",
    "2. **Split Cells Notebook**  \n",
    "    Enable split cells in Jupyter notebooks  \n",
    "    Enter command mode (Esc), use Shift + s to toggle the current cell to either a split cell or full width\n",
    "3. **Table of Contents**  \n",
    "    The toc extension enables to collect all running headers and display them in a floating window, as a sidebar or with a navigation menu. The extension is also draggable, resizable, collapsable, dockable and features automatic numerotation with unique links ids, and an optional toc cell.\n",
    "4. **Autopep8**  \n",
    "    Use kernel-specific code to reformat/prettify the contents of code cells\n",
    "5. **Snippets**  \n",
    "    Adds a drop-down menu to insert snippet cells into the current notebook.\n",
    "6. **Autopep8:**  \n",
    "    Reformats code to fix basic spacing errors that do not follow Pep8 guidelines. I recommend referencing Pep8 documentation for detailed style guidelines. However, this extension does a good job with spacing errors.  \n",
    "7. **Spellchecker:**  \n",
    "    Highlights incorrectly spelled words in Markdown and Raw cells. It is a pretty straightforward extension that is tremendously helpful in identifying misspelled words, especially when all your text, code, and LaTeX seem to be running together.  \n",
    "8. **Execute Time:**  \n",
    "    If you are like me and work in multiple Jupyter Notebooks at a time, the Execute Time extension is a helpful reminder of what has and has not been executed as you switch between notebooks. This extension displays a line at the bottom of your code block that tells you 1) the date and time the last execution of the code cell occurred and 2) how long it took to execute. The timing information not only allows you to quickly gage how long it will take to re-run the cell, but it also allows you to skip the step of importing Time or Timeit libraries to time the code execution.\n",
    "9. **Initialization Cells:**  \n",
    "    The Initialization Cells extension allows you to mark cells as ‘initialization cells’ that will run automatically when the notebook is opened or when clicking the initialization button in the main toolbar.\n",
    "\n"
   ]
  },
  {
   "cell_type": "code",
   "execution_count": null,
   "id": "b470e90c",
   "metadata": {},
   "outputs": [],
   "source": []
  }
 ],
 "metadata": {
  "kernelspec": {
   "display_name": "Python 3",
   "language": "python",
   "name": "python3"
  },
  "language_info": {
   "codemirror_mode": {
    "name": "ipython",
    "version": 3
   },
   "file_extension": ".py",
   "mimetype": "text/x-python",
   "name": "python",
   "nbconvert_exporter": "python",
   "pygments_lexer": "ipython3",
   "version": "3.8.8"
  }
 },
 "nbformat": 4,
 "nbformat_minor": 5
}
